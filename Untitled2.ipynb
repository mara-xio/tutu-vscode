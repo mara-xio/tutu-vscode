{
  "nbformat": 4,
  "nbformat_minor": 0,
  "metadata": {
    "colab": {
      "provenance": [],
      "authorship_tag": "ABX9TyMiZmK9OJGGYuK/WnT9vS9j",
      "include_colab_link": true
    },
    "kernelspec": {
      "name": "python3",
      "display_name": "Python 3"
    },
    "language_info": {
      "name": "python"
    }
  },
  "cells": [
    {
      "cell_type": "markdown",
      "metadata": {
        "id": "view-in-github",
        "colab_type": "text"
      },
      "source": [
        "<a href=\"https://colab.research.google.com/github/mara-xio/tutu-vscode/blob/main/Untitled2.ipynb\" target=\"_parent\"><img src=\"https://colab.research.google.com/assets/colab-badge.svg\" alt=\"Open In Colab\"/></a>"
      ]
    },
    {
      "cell_type": "code",
      "execution_count": null,
      "metadata": {
        "id": "Hbmqz2wIS-u1"
      },
      "outputs": [],
      "source": [
        "import json\n",
        "def cargar_contactos():\n",
        "    try:\n",
        "        archivo = open(\"contactos.json\", \"r\")\n",
        "        datos = json.load(archivo)\n",
        "        archivo.close()\n",
        "        return datos\n",
        "    except:\n",
        "\n",
        "        return {}\n",
        "\n",
        "def guardar_contactos(contactos):\n",
        "    archivo = open(\"contactos.json\", \"w\")\n",
        "    json.dump(contactos, archivo)\n",
        "    archivo.close()\n",
        "\n",
        "contactos = cargar_contactos()\n",
        "\n",
        "while True:\n",
        "    print()\n",
        "    print(\"=== MI AGENDA DE CONTACTOS ===\")\n",
        "    print(\"1 - Ver todos los contactos\")\n",
        "    print(\"2 - Agregar un contacto nuevo\")\n",
        "    print(\"3 - Buscar un contacto\")\n",
        "    print(\"4 - Borrar contacto\")\n",
        "    print(\"5 - Salir del programa\")\n",
        "    print()\n",
        "\n",
        "    opcion = input(\"Que queres hacer? (1-5): \")\n",
        "\n",
        "    if opcion == \"1\":\n",
        "        if len(contactos) == 0:\n",
        "            print(\"No tenes contactos guardados todavia\")\n",
        "        else:\n",
        "            print(\"Tus contactos son:\")\n",
        "            for nombre in contactos:\n",
        "                print(\"- \" + nombre + \":\"  + str(contactos[nombre]))\n",
        "    elif opcion == \"2\":\n",
        "        nombre = input(\"Nombre\")\n",
        "        if nombre in contactos:\n",
        "            print(\"Ese contacto ya existe\")\n",
        "        else:\n",
        "            telefono = input(\"Numero\")\n",
        "\n",
        "            if telefono.isdigit():\n",
        "                if len(telefono) == 10:\n",
        "                    contactos[nombre] = telefono\n",
        "                    print(\"Contacto agregado\")\n",
        "                    guardar_contactos(contactos)\n",
        "                else:\n",
        "                    print(\"El telefono tiene que tener 10 numeros\")\n",
        "            else:\n",
        "                print(\"Solo podes poner numeros\")\n",
        "\n",
        "    elif opcion == \"3\":\n",
        "        nombre = input(\"Nombre\")\n",
        "        if nombre in contactos:\n",
        "            print(nombre + \", su telefono es: \" + contactos[nombre])\n",
        "        else:\n",
        "            print(\"No esta ese contacto en tu agenda\")\n",
        "\n",
        "    elif opcion == \"4\":\n",
        "        nombre = input(\"Nombre\")\n",
        "        if nombre in contactos:\n",
        "            del contactos[nombre]\n",
        "            print(\"Borrado\")\n",
        "            guardar_contactos(contactos)\n",
        "        else:\n",
        "            print(\"No existe ese contacto\")\n",
        "    elif opcion == \"5\":\n",
        "        guardar_contactos(contactos)\n",
        "        print(\"Guardando todo\")\n",
        "        break\n",
        "    else:\n",
        "        print(\"Esa opcion no existe, elegi del 1 al 5\")\n"
      ]
    }
  ]
}